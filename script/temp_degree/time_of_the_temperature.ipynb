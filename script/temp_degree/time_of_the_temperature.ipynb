{
 "cells": [
  {
   "cell_type": "code",
   "execution_count": 20,
   "metadata": {},
   "outputs": [],
   "source": [
    "import xarray as xr\n",
    "import numpy as np\n",
    "import pandas as pd\n"
   ]
  },
  {
   "cell_type": "code",
   "execution_count": 21,
   "metadata": {},
   "outputs": [],
   "source": [
    "glmt = xr.open_dataset(\"/work/mh0033/m300883/3rdPanel/data/mean_global_temp/mtsurf_mpi_GE_onepct.nc\")"
   ]
  },
  {
   "cell_type": "code",
   "execution_count": 37,
   "metadata": {},
   "outputs": [],
   "source": [
    "def return_year(xarr):\n",
    "    return xarr.time.dt.year.values\n",
    "\n",
    "def degree_year(fldmean:xr.DataArray):\n",
    "    \"\"\"\n",
    "    to calculate the year when the mean global surface temperature reaches 1,2,and 4 degrees.\n",
    "    **Argument**\n",
    "        *fldmean* the fldmean of tsurf\n",
    "    \"\"\"\n",
    "    if isinstance(fldmean,xr.DataArray):\n",
    "        pass\n",
    "    else:\n",
    "        print(\"only DataArray is accapted, DataSet recevied\")\n",
    "\n",
    "    try:\n",
    "        fldmean.lon.size == 1 & fldmean.lat.size == 1\n",
    "    except ValueError:\n",
    "        print(\"the fldmean temperature should be calculated first\")\n",
    "\n",
    "    # ens mean\n",
    "    if fldmean.ens.size != 1:\n",
    "        fld_ens_mean = fldmean.mean(dim = 'ens')\n",
    "    else:\n",
    "        fld_ens_mean = fldmean\n",
    "\n",
    "    # squeeze\n",
    "    mean = fld_ens_mean.squeeze()\n",
    "\n",
    "    # anomaly\n",
    "    anomaly = mean-mean[0]\n",
    "\n",
    "    years = np.zeros(3)\n",
    "\n",
    "    # 0 degree (1855)\n",
    "    years[0] = return_year(anomaly[5])\n",
    "\n",
    "    # 2 degree\n",
    "    years[1] = return_year(anomaly.where(anomaly>=2,drop=True)).squeeze()[0]\n",
    "\n",
    "    # 4 degree\n",
    "    years[2] = return_year(anomaly.where(anomaly>=4,drop=True)).squeeze()[0]\n",
    "\n",
    "    return years\n",
    "\n",
    "\n",
    "\n",
    "\n",
    "    "
   ]
  },
  {
   "cell_type": "code",
   "execution_count": 40,
   "metadata": {},
   "outputs": [
    {
     "data": {
      "text/plain": [
       "array([1855., 1929., 1989.])"
      ]
     },
     "execution_count": 40,
     "metadata": {},
     "output_type": "execute_result"
    }
   ],
   "source": [
    "degree_year(glmt.tsurf)"
   ]
  },
  {
   "cell_type": "code",
   "execution_count": null,
   "metadata": {},
   "outputs": [],
   "source": []
  }
 ],
 "metadata": {
  "kernelspec": {
   "display_name": "Python 3.10.8 ('TelSeason')",
   "language": "python",
   "name": "python3"
  },
  "language_info": {
   "codemirror_mode": {
    "name": "ipython",
    "version": 3
   },
   "file_extension": ".py",
   "mimetype": "text/x-python",
   "name": "python",
   "nbconvert_exporter": "python",
   "pygments_lexer": "ipython3",
   "version": "3.10.8"
  },
  "orig_nbformat": 4,
  "vscode": {
   "interpreter": {
    "hash": "35452fd668924e6cd6f406276e52c5be25004a60d8f3c9654da69ebd0b74cd38"
   }
  }
 },
 "nbformat": 4,
 "nbformat_minor": 2
}
